{
 "cells": [
  {
   "cell_type": "code",
   "execution_count": 34,
   "metadata": {},
   "outputs": [
    {
     "name": "stdout",
     "output_type": "stream",
     "text": [
      "Welcome to Lexicon-Rig Quiz World\n",
      "\n",
      "Let's get to know you a little bit we before start\n",
      "What is your name? hiasf\n",
      "Hello, hiasf! I hope your day has been going great.\n",
      "\n",
      "Please, choose your level of difficulty for the quiz.\n",
      "(1) Hard\n",
      "(2) Easy\n",
      "\n",
      "adfad\n",
      "\n",
      "\n",
      "If you think you have clicked something accidentally, try running the program one more time. \n",
      "            \n",
      "If not, thank you for taking your time and I wish you goodluck! Happy Studying!\n"
     ]
    }
   ],
   "source": [
    "#Importing Modules\n",
    "from module import Question\n",
    "from module import Chat\n",
    "import random\n",
    "\n",
    "# Creating array of questions (Just a sample)\n",
    "history_prompts = [\n",
    "    \"When did Columbus discovered America?\\n(a) 1492\\n(b) 1494\\n(c) 1592\\n\\n\",\n",
    "    \"When has George Washington became president?\\n(a) 1786\\n(b) 1788\\n(c) 1789\\n\\n\"]\n",
    "\n",
    "# Creating answer per prompt as an object\n",
    "history = [\n",
    "    Question(history_prompts[0], \"a\"),\n",
    "    Question(history_prompts[1], \"c\")]\n",
    "\n",
    "science_prompts = [\n",
    "    \"What is the color of sky?\\n(a) Blue\\n(b) Yellow\\n(c) Some color\\n\\n\",\n",
    "    \"What color is 400 - 496nm in the light spectrum?\\n(a) Red\\n(b) Blue\\n(c) Green\\n\\n\"]\n",
    "science = [\n",
    "    Question(science_prompts[0], \"a\"),\n",
    "    Question(science_prompts[1], \"b\")]\n",
    "    \n",
    "    \n",
    "\n",
    "    \n",
    "# To start conversation and select the difficulty of the test\n",
    "Chat.lets_chat()"
   ]
  },
  {
   "cell_type": "code",
   "execution_count": null,
   "metadata": {},
   "outputs": [],
   "source": []
  },
  {
   "cell_type": "code",
   "execution_count": null,
   "metadata": {},
   "outputs": [],
   "source": []
  },
  {
   "cell_type": "code",
   "execution_count": 50,
   "metadata": {},
   "outputs": [],
   "source": [
    "\n"
   ]
  },
  {
   "cell_type": "code",
   "execution_count": 67,
   "metadata": {},
   "outputs": [],
   "source": [
    "\n",
    "\n"
   ]
  },
  {
   "cell_type": "code",
   "execution_count": null,
   "metadata": {},
   "outputs": [],
   "source": [
    "\n"
   ]
  },
  {
   "cell_type": "code",
   "execution_count": null,
   "metadata": {},
   "outputs": [],
   "source": []
  },
  {
   "cell_type": "code",
   "execution_count": null,
   "metadata": {},
   "outputs": [],
   "source": []
  }
 ],
 "metadata": {
  "kernelspec": {
   "display_name": "Python 3",
   "language": "python",
   "name": "python3"
  },
  "language_info": {
   "codemirror_mode": {
    "name": "ipython",
    "version": 3
   },
   "file_extension": ".py",
   "mimetype": "text/x-python",
   "name": "python",
   "nbconvert_exporter": "python",
   "pygments_lexer": "ipython3",
   "version": "3.7.3"
  }
 },
 "nbformat": 4,
 "nbformat_minor": 2
}
