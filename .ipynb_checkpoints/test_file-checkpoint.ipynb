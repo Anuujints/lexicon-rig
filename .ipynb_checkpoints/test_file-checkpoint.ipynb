{
 "cells": [
  {
   "cell_type": "code",
   "execution_count": null,
   "metadata": {},
   "outputs": [],
   "source": [
    "#Importing Modules\n",
    "from module import Question\n",
    "from module import Chat\n",
    "from sys import argv\n",
    "import random\n",
    "\n",
    "# Creating array of questions (Just a sample)\n",
    "history_prompts = [\n",
    "    \"When did Columbus discovered America?\\n(a) 1492\\n(b) 1494\\n(c) 1592\\n\\n\",\n",
    "    \"When has George Washington became president?\\n(a) 1786\\n(b) 1788\\n(c) 1789\\n\\n\"]\n",
    "\n",
    "# Creating answer per prompt as an object\n",
    "history = [\n",
    "    Question(history_prompts[0], \"a\"),\n",
    "    Question(history_prompts[1], \"c\")]\n",
    "\n",
    "science_prompts = [\n",
    "    \"What is the color of sky?\\n(a) Blue\\n(b) Yellow\\n(c) Some color\\n\\n\",\n",
    "    \"What color is 400 - 496nm in the light spectrum?\\n(a) Red\\n(b) Blue\\n(c) Green\\n\\n\"]\n",
    "science = [\n",
    "    Question(science_prompts[0], \"a\"),\n",
    "    Question(science_prompts[1], \"b\")]\n",
    "    \n",
    "\n",
    "    \n",
    "# To start conversation and select the difficulty of the test\n",
    "Chat.lets_chat()"
   ]
  },
  {
   "cell_type": "code",
   "execution_count": null,
   "metadata": {},
   "outputs": [],
   "source": [
    "Question.run_test(science)\n"
   ]
  },
  {
   "cell_type": "code",
   "execution_count": null,
   "metadata": {},
   "outputs": [],
   "source": [
    "Question.run_test(history)"
   ]
  }
 ],
 "metadata": {
  "kernelspec": {
   "display_name": "Python 3",
   "language": "python",
   "name": "python3"
  }
 },
 "nbformat": 4,
 "nbformat_minor": 2
}
