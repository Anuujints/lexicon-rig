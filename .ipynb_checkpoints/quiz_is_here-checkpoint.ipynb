{
 "cells": [
  {
   "cell_type": "markdown",
   "metadata": {},
   "source": [
    "# Importing Modules"
   ]
  },
  {
   "cell_type": "code",
   "execution_count": 9,
   "metadata": {},
   "outputs": [],
   "source": [
    "#Importing Modules\n",
    "from module import Question\n",
    "from module import Chat"
   ]
  },
  {
   "cell_type": "markdown",
   "metadata": {},
   "source": [
    "## Check out following methods' documentation\n",
    "Please, make sure to __uncomment__ it first."
   ]
  },
  {
   "cell_type": "code",
   "execution_count": 10,
   "metadata": {},
   "outputs": [],
   "source": [
    "# Question?\n",
    "# Chat?"
   ]
  },
  {
   "cell_type": "markdown",
   "metadata": {},
   "source": [
    "# Creating array of __questions__:\n",
    "  - I have created variables called __history_prompts and science_prompts\n",
    "  - For each variables have 10 different strings of questions with answer options\n",
    "  - To show multiple choices right underneath each questions within a srting I have used __\\n__ to begin new line.\n",
    "    "
   ]
  },
  {
   "cell_type": "code",
   "execution_count": 11,
   "metadata": {},
   "outputs": [],
   "source": [
    "history_prompts = [\n",
    "    \"Which event initiated World War II in Europe?\\n(a) The German invasion of Russia\\n(b) The German invasion of Poland\\n(c) The German invasion of France\\n\\n\",\n",
    "    \"Which general was the Supreme Commander of Allied forces in Europe during World War II??\\n(a) Bernard Montgomery\\n(b) Douglas MacArthur\\n(c) Dwight Eisenhower\\n\\n\",\n",
    "    \"What was the operational name of the American invasion of North Africa during World War II?\\n(a) Operation Torch\\n(b) Operation Market Garden\\n(c) Operation Overlord\\n\\n\",\n",
    "    \"When did Germany invade France during World War II?\\n(a) Fall 1939\\n(b) Spring 1940\\n(c) Summer 1941\\n\\n\",\n",
    "    \"Which engagement was the largest tank battle in history?\\n(a) Operation Market Garden\\n(b) D-Day\\n(c) Battle of Kursk\\n\\n\",\n",
    "    \"What was the Operational name for the American invasion of Italy during World War II?\\n(a) Operation Avalanche\\n(b) Operation Dragoon\\n(c) Operation Overlord\\n\\n\",\n",
    "    \"Who was the commander of Free French forces during World War II??\\n(a) Admiral Francois Darlan\\n(b) General Charles de Gaulle\\n(c) General Henri Giraud\\n\\n\",\n",
    "    \"When did Germany invade the USSR during World War II?\\n(a) Fall 1939\\n(b) Spring 1940\\n(c) Summer 1941\\n\\n\",\n",
    "    \"To what World War II event was Franklin D. Roosevelt referring when he describe it as a “day that will live in infamy?\\n(a) The Japanese attack on Pearl Harbor\\n(b) The Japanese attack on China\\n(c) The German invasion of the USSR\\n\\n\",\n",
    "    \"What was the name of the American organization that conducted missions in Axis-occupied territories during World War II?\\n(a) The Office of Strategic Services (OSS)\\n(b) The National Security Agency (NSA)\\n(c) The Central Intelligence Agency (CIA)\\n\\n\",\n",
    "]\n",
    "science_prompts = [\n",
    "    \"Based on animal research into methamphetamine use, what is one way the brain responds to chronic administration of methamphetamines?\\n(a) Increasing acetylcholine levels in the brain\\n(b) Reducing dopamine levels in the brain\\n(c) Reducing acetylcholine levels in the brain\\n\\n\",\n",
    "    \"A person is experiencing fatigue, decreased pleasure, agitation, vivid dreams, irritability, anxiety, and poor concentration. Which drug was this individual most likely abusing?\\n(a) Cocaine\\n(b) Marijuana\\n(c) Methamphetamine\\n\\n\",\n",
    "    \"Which of the following is NOT a neurotransmitter category?\\n(a) Adenosines\\n(b) Amino acids\\n(c) Peptides\\n\\n\",\n",
    "    \"_____ is the transportation of a neurotransmitter back to the presynaptic neuron?\\n(a) Hyperpolarization\\n(b) Reuptake\\n(c)  Depolarization\\n\\n\",\n",
    "    \"Which function of dopamine helps explain why drug users experience a sense of pleasure when they use their drug of choice??\\n(a) Dopamine is the primary driver of enzymatic deactivation\\n(b) Dopamine contributes to the production of Tryptophan\\n(c) Dopamine is involved in reward systems\\n\\n\",\n",
    "    \"This neurotransmitter affects mood regulation, sleep/wake cycles, temperature regulation, sexual activity, and aggression: \\n(a) Serotonin\\n(b) Epinephrine\\n(c) Norepinephrine\\n\\n\",\n",
    "    \"This is the principal inhibitory neurotransmitter in the brain, and is derived from glutamate: ?\\n(a) Epinephrine\\n(b) gamma aminobutyric acid (GABA)\\n(c)  Glycine\\n\\n\",\n",
    "    \"What is the role of a neurotransmitter agonist?\\n(a) To mimic or enhance the effects of specific neurotransmitters\\n(b) To decrease inhibition\\n(c) To block or decrease the effects of specific neurotransmitters\\n\\n\",\n",
    "    \"A drug effects a neurotransmitter the way it is expected to, yet this does not result in the desired effect on an individual's behavior. The drug has high _____, but low ______.?\\n(a) affinity/efficacy\\n(b) efficacy/affinity\\n(c) potency/does-response\\n\\n\",\n",
    "    \"What is the role of a neurotransmitter antagonist??\\n(a) To mimic or enhance the effects of specific neurotransmitters\\n(b) To decrease inhibition\\n(c) To block or decrease the effects of specific neurotransmitters\\n\\n\"]\n",
    "\n",
    "    \n"
   ]
  },
  {
   "cell_type": "markdown",
   "metadata": {},
   "source": [
    "# Creating __answer__ per prompt as an object:\n",
    "  - I created two variables called __history__ and __science__\n",
    "  - By using class __Question( )__ in __module.py__ file:\n",
    "      - for the first parameter __prompt__: I used indexing from the array of question\n",
    "      - for the second parameter __answer__: I wrote asnwers as a string"
   ]
  },
  {
   "cell_type": "code",
   "execution_count": 12,
   "metadata": {},
   "outputs": [],
   "source": [
    "history = [\n",
    "    Question(history_prompts[0], \"b\"),\n",
    "    Question(history_prompts[1], \"c\"),\n",
    "    Question(history_prompts[2], \"a\"),\n",
    "    Question(history_prompts[3], \"b\"),\n",
    "    Question(history_prompts[4], \"c\"),\n",
    "    Question(history_prompts[5], \"a\"),\n",
    "    Question(history_prompts[6], \"b\"),\n",
    "    Question(history_prompts[7], \"c\"),\n",
    "    Question(history_prompts[8], \"a\"),\n",
    "    Question(history_prompts[9], \"a\")]\n",
    "\n",
    "science = [\n",
    "   Question(science_prompts[0], \"b\"),\n",
    "    Question(science_prompts[1], \"c\"),\n",
    "    Question(science_prompts[2], \"a\"),\n",
    "    Question(science_prompts[3], \"b\"),\n",
    "    Question(science_prompts[4], \"c\"),\n",
    "    Question(science_prompts[5], \"a\"),\n",
    "    Question(science_prompts[6], \"b\"),\n",
    "    Question(science_prompts[7], \"a\"),\n",
    "    Question(science_prompts[8], \"a\"),\n",
    "    Question(science_prompts[9], \"c\")]\n",
    "    "
   ]
  },
  {
   "cell_type": "markdown",
   "metadata": {},
   "source": [
    "## Let's test how you can do with these quizzes:\n",
    "   Run the following code and it will lead you on its own."
   ]
  },
  {
   "cell_type": "code",
   "execution_count": null,
   "metadata": {},
   "outputs": [],
   "source": [
    "# To start conversation and select the difficulty of the test\n",
    "Chat.lets_chat()"
   ]
  },
  {
   "cell_type": "code",
   "execution_count": 8,
   "metadata": {},
   "outputs": [],
   "source": [
    "\n"
   ]
  },
  {
   "cell_type": "code",
   "execution_count": 6,
   "metadata": {},
   "outputs": [],
   "source": []
  },
  {
   "cell_type": "code",
   "execution_count": null,
   "metadata": {},
   "outputs": [],
   "source": []
  }
 ],
 "metadata": {
  "kernelspec": {
   "display_name": "Python 3",
   "language": "python",
   "name": "python3"
  },
  "language_info": {
   "codemirror_mode": {
    "name": "ipython",
    "version": 3
   },
   "file_extension": ".py",
   "mimetype": "text/x-python",
   "name": "python",
   "nbconvert_exporter": "python",
   "pygments_lexer": "ipython3",
   "version": "3.7.3"
  }
 },
 "nbformat": 4,
 "nbformat_minor": 2
}
